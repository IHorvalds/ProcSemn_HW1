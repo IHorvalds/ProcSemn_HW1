{
 "cells": [
  {
   "cell_type": "code",
   "execution_count": 7,
   "metadata": {},
   "outputs": [],
   "source": [
    "import numpy as np\n",
    "import matplotlib.pyplot as plt\n",
    "import sounddevice as sd\n",
    "import pretty_midi\n",
    "\n",
    "sample_rate = 44100"
   ]
  },
  {
   "cell_type": "markdown",
   "metadata": {},
   "source": [
    "# Functii helper"
   ]
  },
  {
   "cell_type": "markdown",
   "metadata": {},
   "source": [
    "Functia `sine` genereaza valorile tuturor esantioanelor de dimensiune 1/sample_rate care incap in intervalul `[start, start+duration]`, fiind data amplitudinea maxima si offsetul de faza."
   ]
  },
  {
   "cell_type": "code",
   "execution_count": 8,
   "metadata": {},
   "outputs": [],
   "source": [
    "def sine(freq, phase, amplitude, start, duration):\n",
    "    global sample_rate\n",
    "    timeline = np.linspace(start, start+duration, int(duration * sample_rate))\n",
    "    x = amplitude * np.sin(2 * freq * np.pi * timeline + phase)\n",
    "    last_phase = 2 * freq * np.pi * timeline[-1]\n",
    "    # print(last_phase, np.sin(last_phase))\n",
    "    # plt.plot(timeline, x)\n",
    "    # plt.show()\n",
    "    return x, last_phase"
   ]
  },
  {
   "cell_type": "markdown",
   "metadata": {},
   "source": [
    "Functia `window` ar trebui sa elimine efectul fenomenului de windowing.\n",
    "Am incercat mai multe functii din lista de pe Wikipedia, dar fereastra Lanczos\n",
    "mi s-a parut ca suna cel mai acceptabil.\n",
    "https://en.wikipedia.org/wiki/Window_function#Lanczos_window"
   ]
  },
  {
   "cell_type": "code",
   "execution_count": 9,
   "metadata": {},
   "outputs": [],
   "source": [
    "def window(x):\n",
    "    t = np.linspace(-len(x)//2, len(x)//2 - 1, len(x))\n",
    "    y = np.sinc(2 * t/len(t)) ## lanczos window\n",
    "    # y = 0.62 - 0.48 * abs(t/len(t) - 1/2) - 0.38 * np.cos(2 * np.pi * t / len(t)) ## bartlett-hann\n",
    "    return x * y"
   ]
  },
  {
   "cell_type": "markdown",
   "metadata": {},
   "source": [
    "# Exercitiul 1\n",
    "\n",
    "Am adaugat si arpegiul Do major si un acord interesant. A fost doar o curiozitate."
   ]
  },
  {
   "cell_type": "code",
   "execution_count": 10,
   "metadata": {},
   "outputs": [],
   "source": [
    "def ex1():\n",
    "    global sample_rate, sd\n",
    "    c_maj = [261.53, 293.66, 329.63, 349.23, 392.00, 440.00, 493.88, 523.25]\n",
    "\n",
    "    time_frame = 3\n",
    "    note_duration = time_frame/len(c_maj)\n",
    "    samples = np.zeros(shape=(int(time_frame * sample_rate),), dtype=np.float64)\n",
    "    phase = 0\n",
    "    for index, f in enumerate(c_maj):\n",
    "        x, phase = sine(f, phase, 1e4, 0, note_duration)\n",
    "        start_time = int(index * note_duration * sample_rate)\n",
    "        samples[start_time:start_time+len(x) - 1] = samples[start_time:start_time+len(x) - 1] + window(x[:-1])\n",
    "\n",
    "    sd.default.samplerate = sample_rate\n",
    "    wav_wave = np.array(samples, dtype=np.int16)\n",
    "    sd.play(wav_wave, blocking=True)\n",
    "    sd.stop()\n",
    "\n",
    "    ## arperggio\n",
    "    c_arp = [261.53, 329.63, 392.00, 523.25]\n",
    "    time_frame = 1\n",
    "    note_duration = time_frame/len(c_arp)\n",
    "    samples = np.zeros(shape=(int(time_frame * sample_rate),), dtype=np.float64)\n",
    "    phase = 0\n",
    "    for index, f in enumerate(c_arp):\n",
    "        x, phase = sine(f, phase, 1e4, 0, note_duration)\n",
    "        start_time = int(index * note_duration * sample_rate)\n",
    "        samples[start_time:start_time+len(x)] = samples[start_time:start_time+len(x)] + window(x)\n",
    "\n",
    "    sd.default.samplerate = sample_rate\n",
    "    wav_wave = np.array(samples, dtype=np.int16)\n",
    "    sd.play(wav_wave, blocking=True)\n",
    "    sd.stop()\n",
    "\n",
    "    ## c maj 7 chord\n",
    "    c_chord = [261.53, 329.63, 392.00, 493.88, 523.25]\n",
    "    time_frame = 2\n",
    "    note_duration = time_frame\n",
    "    samples = np.empty(shape=(len(c_chord),), dtype=np.ndarray)\n",
    "    for index, f in enumerate(c_chord):\n",
    "        x, _ = sine(f, 0, 5e3, 0, note_duration)\n",
    "        samples[index] = window(x)\n",
    "\n",
    "    samples = samples.sum(axis=0)\n",
    "\n",
    "    sd.default.samplerate = sample_rate\n",
    "    wav_wave = np.array(samples, dtype=np.int16)\n",
    "    sd.play(wav_wave, blocking=True)\n",
    "    sd.stop()\n",
    "\n",
    "ex1()"
   ]
  },
  {
   "cell_type": "markdown",
   "metadata": {},
   "source": [
    "# Exercitiul 2\n",
    "\n",
    "Aici, stiind ca fiecare nota urmeaza altei note si nu se suprapun, am pastrat intr-o lista doar nota si durata ei, iar fiecare semnal generat e concatenat semnalului deja existent."
   ]
  },
  {
   "cell_type": "code",
   "execution_count": 11,
   "metadata": {},
   "outputs": [],
   "source": [
    "def ex2():\n",
    "    c_maj = [261.53, 293.66, 329.63, 349.23, 392.00, 440.00, 493.88, 523.25]\n",
    "    frere_jaq = [\n",
    "        (c_maj[0], 2),\n",
    "        (c_maj[1], 2),\n",
    "        (c_maj[2], 2),\n",
    "        (c_maj[0], 2),\n",
    "        (c_maj[0], 2),\n",
    "        (c_maj[1], 2),\n",
    "        (c_maj[2], 2),\n",
    "        (c_maj[0], 2),\n",
    "        (c_maj[2], 2),\n",
    "        (c_maj[3], 2),\n",
    "        (c_maj[4], 2),\n",
    "        (0, 2),\n",
    "        (c_maj[2], 2),\n",
    "        (c_maj[3], 2),\n",
    "        (c_maj[4], 2),\n",
    "        (0, 2),\n",
    "        (c_maj[4], 1),\n",
    "        (c_maj[5], 1),\n",
    "        (c_maj[4], 1),\n",
    "        (c_maj[3], 1),\n",
    "        (c_maj[2], 2),\n",
    "        (c_maj[0], 2),\n",
    "        (c_maj[4], 1),\n",
    "        (c_maj[5], 1),\n",
    "        (c_maj[4], 1),\n",
    "        (c_maj[3], 1),\n",
    "        (c_maj[2], 2),\n",
    "        (c_maj[0], 2),\n",
    "        (c_maj[1], 2),\n",
    "        (c_maj[4], 2),\n",
    "        (c_maj[0], 2),\n",
    "        (0, 2),\n",
    "        (c_maj[1], 2),\n",
    "        (c_maj[4], 2),\n",
    "        (c_maj[0], 2),\n",
    "        (0, 2)\n",
    "    ]\n",
    "\n",
    "    time_interval_sum = sum (i[1] for i in frere_jaq)\n",
    "\n",
    "    time_frame = 16\n",
    "    note_duration = time_frame/time_interval_sum\n",
    "    samples = np.array([])\n",
    "    phase = 0\n",
    "    for f in frere_jaq:\n",
    "        if f[0] != 0:\n",
    "            x, phase = sine(f[0], phase, 1e4, 0, note_duration * f[1])\n",
    "            samples = np.append(samples, window(x), axis=0)\n",
    "        else:\n",
    "            x = np.linspace(0, note_duration * f[1], int(note_duration * f[1] * sample_rate))\n",
    "            samples = np.append(samples, window(x), axis=0)\n",
    "            phase = 0\n",
    "\n",
    "    sd.default.samplerate = sample_rate\n",
    "    wav_wave = np.array(samples, dtype=np.int16)\n",
    "    sd.play(wav_wave, blocking=True)\n",
    "    sd.stop()\n",
    "\n",
    "ex2()"
   ]
  },
  {
   "cell_type": "markdown",
   "metadata": {},
   "source": [
    "# Exercitiul 3\n",
    "\n",
    "Pentru parsare am folosit modului `pretty_midi`. Fisierul este parsat intr-o lista similara cu cea de la exercitiul 2, dar aici pastrez si momentul de inceput (in secunde) si intensitatea notei."
   ]
  },
  {
   "cell_type": "markdown",
   "metadata": {},
   "source": [
    "Modului ofera metode pentru obtinut durata in secunde a fisierului si valoarea in Hz a notei din eveniment."
   ]
  },
  {
   "cell_type": "markdown",
   "metadata": {},
   "source": [
    "Pentru generarea semnalului, intai se genereaza toate esantioanele pentru fereastra de timp data de fisier si sunt initializate cu 0.0. Apoi pentru fiecare element din lista de note se genereaza semnalul pentru intervalul notei, apoi esantioanele acestuia sunt insumate cu esantioanele corespondente din lista de esantioane pentru intreaga fereasta."
   ]
  },
  {
   "cell_type": "markdown",
   "metadata": {},
   "source": [
    "Am inclus 2 fisiere pentru test, `01-Recorded MIDI MIDI 001.mid`: o sectiune din refrenul de la Black Sabbath - I, si `16752.mid`: L. v. Beethoven - Sonata Lunii. Primul are doar cateva secunde, al doilea fisier are in jur de 6 minute."
   ]
  },
  {
   "cell_type": "code",
   "execution_count": 12,
   "metadata": {},
   "outputs": [],
   "source": [
    "def ex3():\n",
    "    global sample_rate, sd\n",
    "    midi_data = pretty_midi.PrettyMIDI(\"01-Recorded MIDI MIDI 001.mid\") ## black sabbath - i\n",
    "    # midi_data = pretty_midi.PrettyMIDI(\"16752.mid\") ## beethoven moonlight sonata - kinda long\n",
    "    midi_list = []\n",
    "\n",
    "    ## parsare luata din primul exemplu de aici\n",
    "    ## https://www.audiolabs-erlangen.de/resources/MIR/FMP/C1/C1S2_MIDI.html\n",
    "    for instrument in midi_data.instruments:\n",
    "        for note in instrument.notes:\n",
    "            start = note.start\n",
    "            end = note.end\n",
    "            pitch = note.pitch\n",
    "            velocity = note.velocity\n",
    "            midi_list.append([start, end-start, pitch, velocity])\n",
    "            \n",
    "    time_frame = midi_data.get_end_time() ## in seconds\n",
    "    samples = np.empty(shape=(int(time_frame * sample_rate),), dtype=np.float64)\n",
    "    \n",
    "    for tone in midi_list:\n",
    "        x, _ = sine(pretty_midi.note_number_to_hz(tone[2]), 0, 5e3 * (tone[3] / 127), tone[0], tone[1])\n",
    "        start_time = int(tone[0] * sample_rate)\n",
    "        samples[start_time:(start_time+len(x))] = samples[start_time:(start_time+len(x))] + window(x)\n",
    "\n",
    "    sd.default.samplerate = sample_rate\n",
    "    wav_wave = np.array(samples, dtype=np.int16)\n",
    "    sd.play(wav_wave, blocking=True)\n",
    "    sd.stop()\n",
    "\n",
    "\n",
    "ex3()"
   ]
  }
 ],
 "metadata": {
  "kernelspec": {
   "display_name": "Python 3",
   "language": "python",
   "name": "python3"
  },
  "language_info": {
   "codemirror_mode": {
    "name": "ipython",
    "version": 3
   },
   "file_extension": ".py",
   "mimetype": "text/x-python",
   "name": "python",
   "nbconvert_exporter": "python",
   "pygments_lexer": "ipython3",
   "version": "3.8.1"
  }
 },
 "nbformat": 4,
 "nbformat_minor": 4
}
